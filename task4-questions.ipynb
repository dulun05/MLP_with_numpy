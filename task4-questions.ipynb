{
 "cells": [
  {
   "cell_type": "markdown",
   "metadata": {
    "id": "MddJJc5JXsZP"
   },
   "source": [
    "## Columbia University\n",
    "### ECBM E4040 Neural Networks and Deep Learning. Fall 2022."
   ]
  },
  {
   "cell_type": "markdown",
   "metadata": {
    "id": "9IjZbwakXsZU"
   },
   "source": [
    "# Assignment 1, Task 4: Questions (10%)"
   ]
  },
  {
   "cell_type": "markdown",
   "metadata": {
    "id": "blpm7MBcXsZV"
   },
   "source": [
    "### Question 1 \n",
    "What is the effect of increasing the number of layers in an MLP? Are larger (with a greater number of hidden layers) models preferred to smaller ones? If so, why? Or why not?\n",
    "\n",
    "   Your answer: **[Effect: the model will have more capacity to learn the in-sample data better. But larger models are not preferred to smaller ones because we always want simple models. Larger models might be overfitted.]**"
   ]
  },
  {
   "cell_type": "markdown",
   "metadata": {
    "id": "y8W1lLKCXsZW"
   },
   "source": [
    "### Question 2 \n",
    "What is the significance of activation functions in deep learning models? Name any two activation functions that you would use for a hidden layer and for the output layer. \n",
    "\n",
    "   Your answer: **[activation functions have the ability to introduce non-linearity to an artificial neural network and generate output from a collection of input values fed to a layer. hidden layers: 1. relu; 2. leaky relu. output layer: 1. softmax; 2. Tanh]**"
   ]
  },
  {
   "cell_type": "markdown",
   "metadata": {
    "id": "ka-1DpW-XsZW"
   },
   "source": [
    "### Question 3\n",
    "Assume you have a problem to predict the annual rainfall in a certain region with some historic numeric data that was given to you, which of these 2 models (Linear Regression and Logistic Regression) would you use? \n",
    "How would you modify the problem statement to use the other model? Are they both linear? \n",
    "\n",
    "   Your answer: **[I would use linear regression because the output is a number not a probability. If the probelm is to ask the probability of raining tomorrow or any kind of yes or no questions, I would use logistic regression. Logistic Regression model is not linear.\n",
    "   ]**\n"
   ]
  },
  {
   "cell_type": "markdown",
   "metadata": {
    "id": "zhG8Zt-7XsZX"
   },
   "source": [
    "### Question 4\n",
    "What is the difference between a loss function and an optimization function? \n",
    "\n",
    "   Your answer: **[Loss function is just to calculate the models errors using the predicted value and the actual target values, while optimization function calculates the gradients of the loss function with respect to weights and then uses them with some hyperparameters like learning rates to update the parameters, ideally making the model's loss smaller. ]**\n",
    "   \n"
   ]
  },
  {
   "cell_type": "markdown",
   "metadata": {
    "id": "BeHkiRgQXsZX"
   },
   "source": [
    "### Question 5\n",
    "What will happen if you choose a very small or a very large learning rate? \n",
    "\n",
    "   Your answer: **[If it's too large, the model might converge too quickly to a suboptimal solution; If it's too small, the gradient descend process might get stuck at local minimum or saddle points.]**\n",
    "   "
   ]
  },
  {
   "cell_type": "markdown",
   "metadata": {
    "id": "NEibzCbSXsZY"
   },
   "source": [
    "### Question 6\n",
    "What is the function of perplexity in tSNE?  \n",
    "    \n",
    "   Your answer: **[A perplexity is more or less a target number of neighbors for our central point. It can also be understood as a guess on how many close neighbors each point has. it will impact how much attention tSNE gives to local versus global aspects of the data. ]**"
   ]
  }
 ],
 "metadata": {
  "colab": {
   "provenance": []
  },
  "kernelspec": {
   "display_name": "Python 3",
   "language": "python",
   "name": "python3"
  },
  "language_info": {
   "codemirror_mode": {
    "name": "ipython",
    "version": 3
   },
   "file_extension": ".py",
   "mimetype": "text/x-python",
   "name": "python",
   "nbconvert_exporter": "python",
   "pygments_lexer": "ipython3",
   "version": "3.6.9"
  },
  "vscode": {
   "interpreter": {
    "hash": "b0fa6594d8f4cbf19f97940f81e996739fb7646882a419484c72d19e05852a7e"
   }
  }
 },
 "nbformat": 4,
 "nbformat_minor": 1
}
