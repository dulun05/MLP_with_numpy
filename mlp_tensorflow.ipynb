{
 "cells": [
  {
   "cell_type": "markdown",
   "metadata": {
    "id": "kKOEBNs3H1a0"
   },
   "source": [
    "## Columbia University\n",
    "### ECBM E4040 Neural Networks and Deep Learning. Fall 2022."
   ]
  },
  {
   "cell_type": "markdown",
   "metadata": {
    "id": "Qe6yTh55trpQ"
   },
   "source": [
    "# Assignment 1, Task 3: Multilayer Perceptron (MLP)\n",
    "This is the third part of the assignment. You will get to implement MLP using tensorflow"
   ]
  },
  {
   "cell_type": "code",
   "execution_count": 33,
   "metadata": {
    "id": "7Vs2WYIFtrpS",
    "tags": []
   },
   "outputs": [
    {
     "name": "stdout",
     "output_type": "stream",
     "text": [
      "The autoreload extension is already loaded. To reload it, use:\n",
      "  %reload_ext autoreload\n"
     ]
    }
   ],
   "source": [
    "# Import modules\n",
    "from __future__ import print_function\n",
    "import tensorflow as tf\n",
    "import numpy as np\n",
    "import time\n",
    "import os\n",
    "import matplotlib.pyplot as plt\n",
    "import pickle\n",
    "\n",
    "from tensorflow.keras.datasets import fashion_mnist\n",
    "\n",
    "# Plot configurations\n",
    "%matplotlib inline\n",
    "\n",
    "# Notebook auto reloads code. (Ref: http://stackoverflow.com/questions/1907993/autoreload-of-modules-in-ipython)\n",
    "%load_ext autoreload\n",
    "%autoreload 2"
   ]
  },
  {
   "cell_type": "markdown",
   "metadata": {
    "id": "3gYnTjputrpV"
   },
   "source": [
    "## Load Data"
   ]
  },
  {
   "cell_type": "code",
   "execution_count": 34,
   "metadata": {
    "colab": {
     "base_uri": "https://localhost:8080/"
    },
    "executionInfo": {
     "elapsed": 1228,
     "status": "ok",
     "timestamp": 1665853536870,
     "user": {
      "displayName": "Lun Du",
      "userId": "06536280969193956471"
     },
     "user_tz": 240
    },
    "id": "I31uJ6KltrpW",
    "outputId": "7b3b7ffd-f8a1-4048-b8d0-3a1015b3067a",
    "tags": []
   },
   "outputs": [
    {
     "name": "stdout",
     "output_type": "stream",
     "text": [
      "(58000, 784) (2000, 784) (10000, 784) (100, 784)\n",
      "Train data shape:  (58000, 784)\n",
      "Train labels shape:  (58000,)\n",
      "Validation data shape:  (2000, 784)\n",
      "Validation labels shape:  (2000,)\n",
      "Test data shape:  (10000, 784)\n",
      "Test labels shape:  (10000,)\n",
      "Development data shape: (100, 784)\n",
      "Development data shape (100,)\n"
     ]
    }
   ],
   "source": [
    "# Load the raw Fashion-MNIST data.\n",
    "train, test = fashion_mnist.load_data()\n",
    "\n",
    "X_train_raw, y_train = train\n",
    "X_test_raw, y_test = test\n",
    "\n",
    "X_train = X_train_raw.reshape((X_train_raw.shape[0], X_train_raw.shape[1]**2))\n",
    "X_test = X_test_raw.reshape((X_test_raw.shape[0], X_test_raw.shape[1]**2))\n",
    "\n",
    "# Data organizations:\n",
    "# Train data: 58000 samples from original training set of 60,000\n",
    "# Validation data: 2000 samples from original training set: 58,000~60,000\n",
    "# Test data: 10000 samples from original test set\n",
    "# Development data (for gradient check): 100 from the training set\n",
    "\n",
    "num_training = 58000\n",
    "num_validation = 2000\n",
    "num_dev = 100\n",
    "\n",
    "X_val = X_train[-num_validation:, :]\n",
    "y_val = y_train[-num_validation:]\n",
    "\n",
    "mask = np.random.choice(num_training, num_dev, replace=False)\n",
    "X_dev = X_train[mask]\n",
    "y_dev = y_train[mask]\n",
    "\n",
    "X_train = X_train[:num_training, :]\n",
    "y_train = y_train[:num_training]\n",
    "\n",
    "# Preprocessing: subtract the mean value across every dimension for training data\n",
    "mean_image = np.mean(X_train, axis=0)\n",
    "\n",
    "X_train = X_train.astype(np.float32) - mean_image.astype(np.float32)\n",
    "X_val = X_val.astype(np.float32) - mean_image\n",
    "X_test = X_test.astype(np.float32) - mean_image\n",
    "X_dev = X_dev.astype(np.float32) - mean_image\n",
    "\n",
    "print(X_train.shape, X_val.shape, X_test.shape, X_dev.shape)\n",
    "print('Train data shape: ', X_train.shape)\n",
    "print('Train labels shape: ', y_train.shape)\n",
    "print('Validation data shape: ', X_val.shape)\n",
    "print('Validation labels shape: ', y_val.shape)\n",
    "print('Test data shape: ', X_test.shape)\n",
    "print('Test labels shape: ', y_test.shape)\n",
    "print('Development data shape:', X_dev.shape)\n",
    "print('Development data shape', y_dev.shape)"
   ]
  },
  {
   "cell_type": "markdown",
   "metadata": {
    "id": "xa_w8ZHbtrqY"
   },
   "source": [
    "## Part 1: Tensorflow MLP (15%)\n",
    "In this part, you will use tensorflow modules to implement a MLP. We provide a demo of a two-layer net, of which style is referred to https://www.tensorflow.org/guide/keras, and https://www.tensorflow.org/guide/eager. \n",
    "\n",
    "You need to implement a multi-layer with 4 layers in a similar style."
   ]
  },
  {
   "cell_type": "markdown",
   "metadata": {
    "id": "VaEkPJOJH1a8"
   },
   "source": [
    "### Demo: Two-layer MLP in Tensorflow"
   ]
  },
  {
   "cell_type": "code",
   "execution_count": 35,
   "metadata": {
    "colab": {
     "base_uri": "https://localhost:8080/"
    },
    "executionInfo": {
     "elapsed": 56234,
     "status": "ok",
     "timestamp": 1665853595429,
     "user": {
      "displayName": "Lun Du",
      "userId": "06536280969193956471"
     },
     "user_tz": 240
    },
    "id": "-0xQOzpdtrqZ",
    "outputId": "523ce5c9-ed1d-42c3-df74-4f5b87256ff4",
    "tags": []
   },
   "outputs": [
    {
     "name": "stdout",
     "output_type": "stream",
     "text": [
      "epoch 1: valid acc = 0.7484999895095825\n",
      "epoch 2: valid acc = 0.7985000014305115\n",
      "epoch 3: valid acc = 0.8195000290870667\n",
      "epoch 4: valid acc = 0.8335000276565552\n",
      "epoch 5: valid acc = 0.8450000286102295\n",
      "epoch 6: valid acc = 0.8539999723434448\n",
      "epoch 7: valid acc = 0.8569999933242798\n",
      "epoch 8: valid acc = 0.8629999756813049\n",
      "epoch 9: valid acc = 0.8654999732971191\n",
      "epoch 10: valid acc = 0.8665000200271606\n",
      "epoch 11: valid acc = 0.8700000047683716\n",
      "epoch 12: valid acc = 0.8715000152587891\n",
      "epoch 13: valid acc = 0.8759999871253967\n",
      "epoch 14: valid acc = 0.8769999742507935\n",
      "epoch 15: valid acc = 0.8759999871253967\n",
      "test acc = 0.8598999977111816\n"
     ]
    }
   ],
   "source": [
    "## Demo: Two-layer net in tensorflow (eager execution mode)\n",
    "hidden_dim = 300\n",
    "reg_tf = tf.constant(0.01)\n",
    "\n",
    "# define a tf.keras.Model class\n",
    "class Model(tf.keras.Model):\n",
    "    def __init__(self):\n",
    "        super(Model, self).__init__()\n",
    "        self.W1 = tf.Variable(1e-2*np.random.rand(X_train.shape[1], hidden_dim).astype('float32'))\n",
    "        self.b1 = tf.Variable(np.zeros((hidden_dim,)).astype('float32'))\n",
    "        self.W2 = tf.Variable(1e-2*np.random.rand(hidden_dim, 20).astype('float32'))\n",
    "        self.b2 = tf.Variable(np.zeros((20,)).astype('float32'))\n",
    "    def call(self, inputs):\n",
    "        \"\"\"Run the model.\"\"\"\n",
    "        h1 = tf.nn.relu(tf.matmul(inputs, self.W1) + self.b1)\n",
    "        out = tf.matmul(h1, self.W2) + self.b2\n",
    "        return out\n",
    "\n",
    "# Define and calculate loss function (Note that in eager execution, loss must be in a function)\n",
    "def loss(model, inputs, targets, reg = tf.constant(0.01)):\n",
    "    out = model(inputs)\n",
    "    cross_entropy = tf.nn.softmax_cross_entropy_with_logits(logits= out, labels=tf.one_hot(targets,20))\n",
    "    L2_loss = tf.nn.l2_loss(model.W1) + tf.nn.l2_loss(model.W2)\n",
    "    return tf.reduce_mean(cross_entropy) + reg * L2_loss\n",
    "\n",
    "# calculate gradients for all variables using tf.GradientTape\n",
    "def grad(model, inputs, targets, reg = tf.constant(0.01)):\n",
    "    with tf.GradientTape() as tape:\n",
    "        loss_value = loss(model, inputs, targets, reg=reg)\n",
    "    return tape.gradient(loss_value, [model.W1, model.b1, model.W2, model.b2])\n",
    "\n",
    "# calculate classification accuracy\n",
    "def eval_acc(model, inputs, targets):\n",
    "    correct_prediction = tf.equal(targets, tf.cast(tf.argmax(model(inputs),1), tf.uint8))\n",
    "    accuracy = tf.reduce_mean(tf.cast(correct_prediction, tf.float32))\n",
    "    return accuracy\n",
    "\n",
    "num_train = 58000\n",
    "batch_size = 500\n",
    "num_batch = num_train//batch_size\n",
    "num_epochs = 15\n",
    "model = Model()\n",
    "optimizer = tf.keras.optimizers.SGD(learning_rate=1e-3)\n",
    "\n",
    "for e in range(num_epochs):\n",
    "    for i in range(num_batch):\n",
    "        batch_xs, batch_ys = X_train[i*batch_size:(i+1)*batch_size], y_train[i*batch_size:(i+1)*batch_size]\n",
    "        x_tf = tf.Variable(batch_xs, dtype = tf.float32)\n",
    "        y_tf = tf.Variable(batch_ys, dtype = tf.uint8)\n",
    "        \n",
    "        grads = grad(model, x_tf, y_tf, reg_tf)\n",
    "        #optimization based on calculated gradients \n",
    "        optimizer.apply_gradients(zip(grads, [model.W1, model.b1, model.W2, model.b2]))\n",
    "\n",
    "    x_tf = tf.Variable(X_val, dtype = tf.float32)\n",
    "    y_tf = tf.Variable(y_val, dtype = tf.uint8)\n",
    "    accuracy = eval_acc(model, x_tf, y_tf)\n",
    "    val_acc = accuracy.numpy()\n",
    "    print('epoch {}: valid acc = {}'.format(e+1, val_acc))\n",
    "\n",
    "x_tf = tf.Variable(X_test, dtype = tf.float32)\n",
    "y_tf = tf.Variable(y_test, dtype = tf.uint8)\n",
    "accuracy = eval_acc(model, x_tf, y_tf)\n",
    "test_acc = accuracy.numpy()\n",
    "print('test acc = {}'.format(test_acc))"
   ]
  },
  {
   "cell_type": "markdown",
   "metadata": {
    "id": "W32X-UjLH1a-"
   },
   "source": [
    "### Create Deeper Network"
   ]
  },
  {
   "cell_type": "markdown",
   "metadata": {
    "id": "YmSduBmytrqb"
   },
   "source": [
    "<span style=\"color:red\"><strong>TODO</strong></span>: Create your 4-layer MLP in tensorflow. Since you are going to create a deeper neural network, it is recommended to use \"list\" to store your network parameters (weights and bias). Consider using a loop to create your MLP network. Hint: Copy the above code and make necessary changes in model definition."
   ]
  },
  {
   "cell_type": "code",
   "execution_count": 36,
   "metadata": {
    "colab": {
     "base_uri": "https://localhost:8080/"
    },
    "executionInfo": {
     "elapsed": 84640,
     "status": "ok",
     "timestamp": 1665862212960,
     "user": {
      "displayName": "Lun Du",
      "userId": "06536280969193956471"
     },
     "user_tz": 240
    },
    "id": "zKFjqYBaH1a-",
    "outputId": "c3a23c13-943d-4cec-aa64-7c1b16170d75"
   },
   "outputs": [
    {
     "name": "stdout",
     "output_type": "stream",
     "text": [
      "epoch 1: valid acc = 0.15049999952316284\n",
      "epoch 2: valid acc = 0.18199999630451202\n",
      "epoch 3: valid acc = 0.24300000071525574\n",
      "epoch 4: valid acc = 0.2290000021457672\n",
      "epoch 5: valid acc = 0.23999999463558197\n",
      "epoch 6: valid acc = 0.2134999930858612\n",
      "epoch 7: valid acc = 0.1899999976158142\n",
      "epoch 8: valid acc = 0.19750000536441803\n",
      "epoch 9: valid acc = 0.2045000046491623\n",
      "epoch 10: valid acc = 0.2485000044107437\n",
      "epoch 11: valid acc = 0.2745000123977661\n",
      "epoch 12: valid acc = 0.30399999022483826\n",
      "epoch 13: valid acc = 0.3479999899864197\n",
      "epoch 14: valid acc = 0.39149999618530273\n",
      "epoch 15: valid acc = 0.3700000047683716\n",
      "test acc = 0.3698999881744385\n"
     ]
    }
   ],
   "source": [
    "# # Create you MLP using TensorFlow functions.\n",
    "# classes = 20\n",
    "\n",
    "# hidden_dim = [X_train.shape[1]] + [300, 200, 100] + [classes]\n",
    "# layers_num = len(hidden_dim) - 1\n",
    "# reg_tf = tf.constant(0.01)\n",
    "\n",
    "\n",
    "# # define a tf.keras.Model class\n",
    "# class Model(tf.keras.Model):\n",
    "#     def __init__(self):\n",
    "#         super(Model, self).__init__()\n",
    "#         self.W = {}\n",
    "#         self.b = {}\n",
    "#         for i in range(layers_num):\n",
    "#           self.W[i] = tf.Variable(1e-2*np.random.rand(hidden_dim[i], hidden_dim[i+1]).astype('float32'))\n",
    "#           self.b[i] = tf.Variable(np.zeros((hidden_dim[i+1],)).astype('float32'))\n",
    "\n",
    "#     def call(self, inputs):\n",
    "#         \"\"\"Run the model.\"\"\"\n",
    "#         \"\"\"feedforward\"\"\"\n",
    "#         h = []\n",
    "#         for i in range(layers_num-1):\n",
    "#           h.append(tf.nn.relu(tf.matmul(inputs, self.W[i]) + self.b[i]))\n",
    "#           inputs = h[i]\n",
    "#         out = tf.matmul(inputs, self.W[i+1]) + self.b[i+1]\n",
    "#         return out\n",
    "\n",
    "# # Define and calculate loss function (Note that in eager execution, loss must be in a function)\n",
    "# def loss(model, inputs, targets, reg = tf.constant(0.01)):\n",
    "#     out = model(inputs)\n",
    "#     cross_entropy = tf.nn.softmax_cross_entropy_with_logits(logits= out, labels=tf.one_hot(targets,20))\n",
    "#     L2_loss = 0.0\n",
    "#     for i in range(len(model.W)):\n",
    "#       L2_loss += tf.nn.l2_loss(model.W[i])\n",
    "#     return tf.reduce_mean(cross_entropy) + reg * L2_loss\n",
    "\n",
    "# # calculate gradients for all variables using tf.GradientTape\n",
    "# def grad(model, inputs, targets, params, reg = tf.constant(0.01)):\n",
    "#     with tf.GradientTape() as tape:\n",
    "#         loss_value = loss(model, inputs, targets, reg=reg)\n",
    "#     return tape.gradient(loss_value, params)\n",
    "\n",
    "# # calculate classification accuracy\n",
    "# def eval_acc(model, inputs, targets):\n",
    "#     correct_prediction = tf.equal(targets, tf.cast(tf.argmax(model(inputs),1), tf.uint8))\n",
    "#     accuracy = tf.reduce_mean(tf.cast(correct_prediction, tf.float32))\n",
    "#     return accuracy\n",
    "\n",
    "# num_train = 58000\n",
    "# batch_size = 500\n",
    "# num_batch = num_train//batch_size\n",
    "# num_epochs = 15\n",
    "# model = Model()\n",
    "# optimizer = tf.keras.optimizers.SGD(learning_rate=1e-3)\n",
    "\n",
    "# params = []\n",
    "# for i in range(len(model.W)):\n",
    "#   params.append(model.W[i])\n",
    "#   params.append(model.b[i])\n",
    "\n",
    "# for e in range(num_epochs):\n",
    "#     for i in range(num_batch):\n",
    "#         batch_xs, batch_ys = X_train[i*batch_size:(i+1)*batch_size], y_train[i*batch_size:(i+1)*batch_size]\n",
    "#         x_tf = tf.Variable(batch_xs, dtype = tf.float32)\n",
    "#         y_tf = tf.Variable(batch_ys, dtype = tf.uint8)\n",
    "        \n",
    "#         grads = grad(model, x_tf, y_tf, params, reg_tf)\n",
    "#         #optimization based on calculated gradients \n",
    "#         optimizer.apply_gradients(zip(grads, params))\n",
    "\n",
    "#     x_tf = tf.Variable(X_val, dtype = tf.float32)\n",
    "#     y_tf = tf.Variable(y_val, dtype = tf.uint8)\n",
    "#     accuracy = eval_acc(model, x_tf, y_tf)\n",
    "#     val_acc = accuracy.numpy()\n",
    "#     print('epoch {}: valid acc = {}'.format(e+1, val_acc))\n",
    "\n",
    "# x_tf = tf.Variable(X_test, dtype = tf.float32)\n",
    "# y_tf = tf.Variable(y_test, dtype = tf.uint8)\n",
    "# accuracy = eval_acc(model, x_tf, y_tf)\n",
    "# test_acc = accuracy.numpy()\n",
    "# print('test acc = {}'.format(test_acc))\n",
    "\n",
    "\n",
    "## Demo: Two-layer net in tensorflow (eager execution mode)\n",
    "hidden_dim = 300\n",
    "reg_tf = tf.constant(0.01)\n",
    "\n",
    "# define a tf.keras.Model class\n",
    "class Model(tf.keras.Model):\n",
    "    def __init__(self):\n",
    "        super(Model, self).__init__()\n",
    "        self.W1 = tf.Variable(1e-2*np.random.rand(X_train.shape[1], hidden_dim).astype('float32'))\n",
    "        self.b1 = tf.Variable(np.zeros((hidden_dim,)).astype('float32'))\n",
    "        self.W2 = tf.Variable(1e-2*np.random.rand(hidden_dim, hidden_dim).astype('float32'))\n",
    "        self.b2 = tf.Variable(np.zeros((hidden_dim,)).astype('float32'))\n",
    "        self.W3 = tf.Variable(1e-2*np.random.rand(hidden_dim, hidden_dim).astype('float32'))\n",
    "        self.b3 = tf.Variable(np.zeros((hidden_dim,)).astype('float32'))\n",
    "        self.W4 = tf.Variable(1e-2*np.random.rand(hidden_dim, 20).astype('float32'))\n",
    "        self.b4 = tf.Variable(np.zeros((20,)).astype('float32'))                \n",
    "    def call(self, inputs):\n",
    "        \"\"\"Run the model.\"\"\"\n",
    "        h1 = tf.nn.relu(tf.matmul(inputs, self.W1) + self.b1)\n",
    "        h2 = tf.nn.relu(tf.matmul(h1, self.W2) + self.b2)\n",
    "        h3 = tf.nn.relu(tf.matmul(h2, self.W3) + self.b3)\n",
    "        out = tf.matmul(h3, self.W4) + self.b4\n",
    "        return out\n",
    "\n",
    "# Define and calculate loss function (Note that in eager execution, loss must be in a function)\n",
    "def loss(model, inputs, targets, reg = tf.constant(0.01)):\n",
    "    out = model(inputs)\n",
    "    cross_entropy = tf.nn.softmax_cross_entropy_with_logits(logits= out, labels=tf.one_hot(targets,20))\n",
    "    L2_loss = tf.nn.l2_loss(model.W1) + tf.nn.l2_loss(model.W2) + tf.nn.l2_loss(model.W3) + tf.nn.l2_loss(model.W4)\n",
    "    return tf.reduce_mean(cross_entropy) + reg * L2_loss\n",
    "\n",
    "# calculate gradients for all variables using tf.GradientTape\n",
    "def grad(model, inputs, targets, reg = tf.constant(0.01)):\n",
    "    with tf.GradientTape() as tape:\n",
    "        loss_value = loss(model, inputs, targets, reg=reg)\n",
    "    return tape.gradient(loss_value, [model.W1, model.b1, model.W2, model.b2, model.W3, model.b3, model.W4, model.b4])\n",
    "\n",
    "# calculate classification accuracy\n",
    "def eval_acc(model, inputs, targets):\n",
    "    correct_prediction = tf.equal(targets, tf.cast(tf.argmax(model(inputs),1), tf.uint8))\n",
    "    accuracy = tf.reduce_mean(tf.cast(correct_prediction, tf.float32))\n",
    "    return accuracy\n",
    "\n",
    "num_train = 58000\n",
    "batch_size = 500\n",
    "num_batch = num_train//batch_size\n",
    "num_epochs = 15\n",
    "model = Model()\n",
    "optimizer = tf.keras.optimizers.SGD(learning_rate=1e-3)\n",
    "\n",
    "for e in range(num_epochs):\n",
    "    for i in range(num_batch):\n",
    "        batch_xs, batch_ys = X_train[i*batch_size:(i+1)*batch_size], y_train[i*batch_size:(i+1)*batch_size]\n",
    "        x_tf = tf.Variable(batch_xs, dtype = tf.float32)\n",
    "        y_tf = tf.Variable(batch_ys, dtype = tf.uint8)\n",
    "        \n",
    "        grads = grad(model, x_tf, y_tf, reg_tf)\n",
    "        #optimization based on calculated gradients \n",
    "        optimizer.apply_gradients(zip(grads, [model.W1, model.b1, model.W2, model.b2, model.W3, model.b3, model.W4, model.b4]))\n",
    "\n",
    "\n",
    "    x_tf = tf.Variable(X_val, dtype = tf.float32)\n",
    "    y_tf = tf.Variable(y_val, dtype = tf.uint8)\n",
    "    accuracy = eval_acc(model, x_tf, y_tf)\n",
    "    val_acc = accuracy.numpy()\n",
    "    print('epoch {}: valid acc = {}'.format(e+1, val_acc))\n",
    "\n",
    "x_tf = tf.Variable(X_test, dtype = tf.float32)\n",
    "y_tf = tf.Variable(y_test, dtype = tf.uint8)\n",
    "accuracy = eval_acc(model, x_tf, y_tf)\n",
    "test_acc = accuracy.numpy()\n",
    "print('test acc = {}'.format(test_acc))"
   ]
  },
  {
   "cell_type": "markdown",
   "metadata": {
    "id": "CEm93N2eH1a_"
   },
   "source": [
    "### Introduction to TensorFlow.keras\n",
    "\n",
    "As you can see, when the network structure becomes larger, it is hard to handle variables from every layer. Here we introduce the `tf.keras` tool to build the network in a much simpler way. You may want to use it in your project."
   ]
  },
  {
   "cell_type": "markdown",
   "metadata": {
    "id": "mLKRVfwqH1a_"
   },
   "source": [
    "<span style=\"color:red\"><strong>TODO</strong></span>: Follow this official example: https://www.tensorflow.org/datasets/keras_example#step_2_create_and_train_the_model to build an MLP and train it. \n",
    "\n",
    "*You should keep the same optimizer (SGD) and loss function (cross entropy) as in the previous task.*\n",
    "\n",
    "**Note:** Since we want to use our own dataset, we will not use the `tfds.load` method to load the data this time. \n",
    "\n",
    "You need to check the usage of [`model.fit()`](https://www.tensorflow.org/api_docs/python/tf/keras/Model#fit) and feed the model with our own data.\n",
    "\n",
    "**Tips:**\n",
    "* Softmax is also registered as a layer operation in tf.keras.\n",
    "* You can use `model.summary()` to visualize the model after you build it.\n",
    "* Use `verbose=2` in `model.fit()` to get similar training logs"
   ]
  },
  {
   "cell_type": "code",
   "execution_count": 37,
   "metadata": {
    "colab": {
     "base_uri": "https://localhost:8080/"
    },
    "executionInfo": {
     "elapsed": 21476,
     "status": "ok",
     "timestamp": 1665862308261,
     "user": {
      "displayName": "Lun Du",
      "userId": "06536280969193956471"
     },
     "user_tz": 240
    },
    "id": "270jKIeIH1a_",
    "outputId": "8b72bdd5-e5b3-4910-ce03-09ac56c87f05"
   },
   "outputs": [
    {
     "name": "stdout",
     "output_type": "stream",
     "text": [
      "Epoch 1/15\n",
      "116/116 - 1s - loss: 14.2691 - sparse_categorical_accuracy: 0.7400 - val_loss: 6.7095 - val_sparse_categorical_accuracy: 0.7950\n",
      "Epoch 2/15\n",
      "116/116 - 0s - loss: 5.9828 - sparse_categorical_accuracy: 0.8057 - val_loss: 4.8947 - val_sparse_categorical_accuracy: 0.8115\n",
      "Epoch 3/15\n",
      "116/116 - 0s - loss: 4.4386 - sparse_categorical_accuracy: 0.8203 - val_loss: 3.9319 - val_sparse_categorical_accuracy: 0.8120\n",
      "Epoch 4/15\n",
      "116/116 - 0s - loss: 3.4546 - sparse_categorical_accuracy: 0.8328 - val_loss: 3.2795 - val_sparse_categorical_accuracy: 0.8275\n",
      "Epoch 5/15\n",
      "116/116 - 0s - loss: 2.8375 - sparse_categorical_accuracy: 0.8415 - val_loss: 3.0232 - val_sparse_categorical_accuracy: 0.8250\n",
      "Epoch 6/15\n",
      "116/116 - 0s - loss: 2.4118 - sparse_categorical_accuracy: 0.8473 - val_loss: 2.6106 - val_sparse_categorical_accuracy: 0.8330\n",
      "Epoch 7/15\n",
      "116/116 - 0s - loss: 2.0748 - sparse_categorical_accuracy: 0.8530 - val_loss: 2.5411 - val_sparse_categorical_accuracy: 0.8310\n",
      "Epoch 8/15\n",
      "116/116 - 0s - loss: 1.7994 - sparse_categorical_accuracy: 0.8557 - val_loss: 2.4395 - val_sparse_categorical_accuracy: 0.8300\n",
      "Epoch 9/15\n",
      "116/116 - 0s - loss: 1.6090 - sparse_categorical_accuracy: 0.8589 - val_loss: 2.3429 - val_sparse_categorical_accuracy: 0.8290\n",
      "Epoch 10/15\n",
      "116/116 - 0s - loss: 1.4664 - sparse_categorical_accuracy: 0.8619 - val_loss: 2.1209 - val_sparse_categorical_accuracy: 0.8335\n",
      "Epoch 11/15\n",
      "116/116 - 0s - loss: 1.3131 - sparse_categorical_accuracy: 0.8656 - val_loss: 2.0667 - val_sparse_categorical_accuracy: 0.8245\n",
      "Epoch 12/15\n",
      "116/116 - 0s - loss: 1.2139 - sparse_categorical_accuracy: 0.8684 - val_loss: 2.1088 - val_sparse_categorical_accuracy: 0.8175\n",
      "Epoch 13/15\n",
      "116/116 - 0s - loss: 1.1200 - sparse_categorical_accuracy: 0.8703 - val_loss: 1.7839 - val_sparse_categorical_accuracy: 0.8320\n",
      "Epoch 14/15\n",
      "116/116 - 0s - loss: 1.0307 - sparse_categorical_accuracy: 0.8723 - val_loss: 1.8431 - val_sparse_categorical_accuracy: 0.8340\n",
      "Epoch 15/15\n",
      "116/116 - 0s - loss: 0.9684 - sparse_categorical_accuracy: 0.8726 - val_loss: 1.7747 - val_sparse_categorical_accuracy: 0.8325\n",
      "Model: \"sequential_1\"\n",
      "_________________________________________________________________\n",
      "Layer (type)                 Output Shape              Param #   \n",
      "=================================================================\n",
      "flatten_1 (Flatten)          (None, 784)               0         \n",
      "_________________________________________________________________\n",
      "dense_2 (Dense)              (None, 128)               100480    \n",
      "_________________________________________________________________\n",
      "dense_3 (Dense)              (None, 10)                1290      \n",
      "=================================================================\n",
      "Total params: 101,770\n",
      "Trainable params: 101,770\n",
      "Non-trainable params: 0\n",
      "_________________________________________________________________\n"
     ]
    }
   ],
   "source": [
    "#############################################################\n",
    "# TODO: build the model with tf.keras.models.Sequential\n",
    "D = X_train.shape[1]\n",
    "num_class = y_train.max()+1\n",
    "\n",
    "model = tf.keras.models.Sequential([\n",
    "  tf.keras.layers.Flatten(input_shape=(D,)),\n",
    "  tf.keras.layers.Dense(128, activation='relu'),\n",
    "  tf.keras.layers.Dense(num_class)\n",
    "])\n",
    "# END of your code\n",
    "#############################################################\n",
    "\n",
    "\n",
    "\n",
    "#############################################################\n",
    "# TODO: compile the model, set optimizer and loss\n",
    "model.compile(\n",
    "    optimizer=tf.keras.optimizers.SGD(learning_rate=1e-3),\n",
    "    loss=tf.keras.losses.SparseCategoricalCrossentropy(from_logits=True),\n",
    "    metrics=[tf.keras.metrics.SparseCategoricalAccuracy()],\n",
    ")\n",
    "# END of your code\n",
    "#############################################################\n",
    "\n",
    "\n",
    "\n",
    "#############################################################\n",
    "# TODO: train the model with our own dataset\n",
    "model.fit(\n",
    "    x=X_train,\n",
    "    y=y_train,\n",
    "    batch_size=500,\n",
    "    epochs=15,\n",
    "    verbose=2,\n",
    "    validation_data=(X_val, y_val),\n",
    "    shuffle=True\n",
    ")\n",
    "model.summary()\n",
    "\n",
    "# END of your code\n",
    "#############################################################"
   ]
  },
  {
   "cell_type": "markdown",
   "metadata": {
    "id": "SBzwzLYDH1bA"
   },
   "source": [
    "## Part 2: t-SNE (5%)\n",
    "\n",
    "t-SNE is is a machine learning algorithm for nonlinear dimensionality reduction developed by Geoffrey Hinton and Laurens van der Maaten. It is also a good way of visualizing high-dimensional data in 2D. We show its application for CIFAR100. Later it will be re-used in a CNN network. Experimenting with t-SNE can be fun. One thing to try is to visualize the output of each layer of MLP to observe the differences.\n",
    "\n",
    "<p style=\"line-height: 1.2;\">[1] Maaten, Laurens van der, and Geoffrey Hinton. \"Visualizing data using t-SNE.\" Journal of Machine Learning Research 9.Nov (2008): 2579-2605.</p>\n",
    "<p style=\"line-height: 1.2;\">[2] Adaptive learning rate scheme by Jacobs https://www.willamette.edu/~gorr/classes/cs449/Momentum/deltabardelta.html</p>\n",
    "<p style=\"line-height: 1.2;\">[3] http://cs.stanford.edu/people/karpathy/cnnembed/</p>\n",
    "<p style=\"line-height: 1.2;\">[4] How to Use t-SNE Effectively, with examples.\n",
    " https://distill.pub/2016/misread-tsne</p>"
   ]
  },
  {
   "cell_type": "code",
   "execution_count": 38,
   "metadata": {
    "id": "r6xTTBH_H1bA"
   },
   "outputs": [],
   "source": [
    "from utils.train_funcs import train, test\n",
    "from utils.classifiers.mlp import MLP\n",
    "from utils.features.tsne import tsne"
   ]
  },
  {
   "cell_type": "code",
   "execution_count": 39,
   "metadata": {
    "colab": {
     "base_uri": "https://localhost:8080/"
    },
    "executionInfo": {
     "elapsed": 754,
     "status": "ok",
     "timestamp": 1665862312002,
     "user": {
      "displayName": "Lun Du",
      "userId": "06536280969193956471"
     },
     "user_tz": 240
    },
    "id": "slH2RIPYH1bB",
    "outputId": "e20d77de-a3b6-4275-a34d-163597fd3c38",
    "tags": []
   },
   "outputs": [
    {
     "name": "stdout",
     "output_type": "stream",
     "text": [
      "(58000, 784) (2000, 784) (10000, 784) (100, 784)\n",
      "Train data shape:  (58000, 784)\n",
      "Train labels shape:  (58000,)\n",
      "Validation data shape:  (2000, 784)\n",
      "Validation labels shape:  (2000,)\n",
      "Test data shape:  (10000, 784)\n",
      "Test labels shape:  (10000,)\n",
      "Development data shape: (100, 784)\n",
      "Development data shape (100,)\n"
     ]
    }
   ],
   "source": [
    "# Load the raw Fashion-MNIST data.\n",
    "train_data, test_data = fashion_mnist.load_data()\n",
    "\n",
    "X_train_raw, y_train = train_data\n",
    "X_test_raw, y_test = test_data\n",
    "\n",
    "X_train = X_train_raw.reshape((X_train_raw.shape[0], X_train_raw.shape[1]**2))\n",
    "X_test = X_test_raw.reshape((X_test_raw.shape[0], X_test_raw.shape[1]**2))\n",
    "\n",
    "# Data organizations:\n",
    "# Train data: 58000 samples from original training set of 60,000\n",
    "# Validation data: 2000 samples from original training set: 58,000~60,000\n",
    "# Test data: 10000 samples from original test set\n",
    "# Development data (for gradient check): 100 from the training set\n",
    "num_training = 58000\n",
    "num_validation = 2000\n",
    "num_dev = 100\n",
    "\n",
    "X_val = X_train[-num_validation:, :]\n",
    "y_val = y_train[-num_validation:]\n",
    "\n",
    "mask = np.random.choice(num_training, num_dev, replace=False)\n",
    "X_dev = X_train[mask]\n",
    "y_dev = y_train[mask]\n",
    "\n",
    "X_train = X_train[:num_training, :]\n",
    "y_train = y_train[:num_training]\n",
    "\n",
    "# Preprocessing: subtract the mean value across every dimension for training data\n",
    "mean_image = np.mean(X_train, axis=0)\n",
    "\n",
    "X_train = X_train.astype(np.float32) - mean_image.astype(np.float32)\n",
    "X_val = X_val.astype(np.float32) - mean_image\n",
    "X_test = X_test.astype(np.float32) - mean_image\n",
    "X_dev = X_dev.astype(np.float32) - mean_image\n",
    "\n",
    "print(X_train.shape, X_val.shape, X_test.shape, X_dev.shape)\n",
    "print('Train data shape: ', X_train.shape)\n",
    "print('Train labels shape: ', y_train.shape)\n",
    "print('Validation data shape: ', X_val.shape)\n",
    "print('Validation labels shape: ', y_val.shape)\n",
    "print('Test data shape: ', X_test.shape)\n",
    "print('Test labels shape: ', y_test.shape)\n",
    "print('Development data shape:', X_dev.shape)\n",
    "print('Development data shape', y_dev.shape)"
   ]
  },
  {
   "cell_type": "markdown",
   "metadata": {
    "id": "FQTjU4YNH1bB"
   },
   "source": [
    "#### tSNE of original data"
   ]
  },
  {
   "cell_type": "code",
   "execution_count": 40,
   "metadata": {
    "colab": {
     "base_uri": "https://localhost:8080/"
    },
    "executionInfo": {
     "elapsed": 24221,
     "status": "ok",
     "timestamp": 1665862336221,
     "user": {
      "displayName": "Lun Du",
      "userId": "06536280969193956471"
     },
     "user_tz": 240
    },
    "id": "tEQSJ4hpH1bB",
    "outputId": "0b70e0ae-7ef1-4a7d-e34f-421ed2e5e1e2",
    "tags": []
   },
   "outputs": [
    {
     "name": "stdout",
     "output_type": "stream",
     "text": [
      "2.844723387497046\n",
      "The 100 th loop cost: 12.042525362700166, computation time: 1.5689382553100586\n",
      "The 200 th loop cost: 0.579026904082659, computation time: 3.134408473968506\n",
      "The 300 th loop cost: 0.5412033311121657, computation time: 4.716006755828857\n",
      "The 400 th loop cost: 0.5341556196092928, computation time: 6.270210027694702\n",
      "The 500 th loop cost: 0.5323997722668532, computation time: 7.8313212394714355\n",
      "The 600 th loop cost: 0.5316685468619667, computation time: 9.383899211883545\n",
      "The 700 th loop cost: 0.5312922238708806, computation time: 10.939179182052612\n",
      "The 800 th loop cost: 0.5310744997222671, computation time: 12.511173486709595\n",
      "The 900 th loop cost: 0.5309384574298783, computation time: 14.08798861503601\n",
      "The 1000 th loop cost: 0.5308494239479988, computation time: 15.699678659439087\n",
      "it takes 16.342384099960327 seconds\n"
     ]
    }
   ],
   "source": [
    "random_select = np.random.choice(10000, 500, replace=False)\n",
    "X = X_test_raw[random_select,:,:].reshape(500,X_train.shape[1]).astype('float')/255.0\n",
    "tic = time.time()\n",
    "Y = tsne(X, low_dim=2, perplexity=25.0)\n",
    "print(\"it takes {} seconds\".format(time.time()-tic))"
   ]
  },
  {
   "cell_type": "code",
   "execution_count": 41,
   "metadata": {
    "colab": {
     "base_uri": "https://localhost:8080/",
     "height": 265
    },
    "executionInfo": {
     "elapsed": 238,
     "status": "ok",
     "timestamp": 1665862336442,
     "user": {
      "displayName": "Lun Du",
      "userId": "06536280969193956471"
     },
     "user_tz": 240
    },
    "id": "iRj0nwACH1bC",
    "outputId": "4f755704-955f-4d2f-d345-108756569b36"
   },
   "outputs": [
    {
     "data": {
      "image/png": "[encoded data removed]",
      "text/plain": [
       "<Figure size 432x288 with 1 Axes>"
      ]
     },
     "metadata": {
      "needs_background": "light"
     },
     "output_type": "display_data"
    }
   ],
   "source": [
    "## visualize tSNE of original data\n",
    "labels = y_test[random_select]\n",
    "colors = np.random.rand(20,3)\n",
    "color_labels = [colors[int(i)] for i in labels.tolist()]\n",
    "plt.scatter(Y[:,0], Y[:,1], 20, color_labels)\n",
    "plt.show()"
   ]
  },
  {
   "cell_type": "markdown",
   "metadata": {
    "id": "HwxG6HBvH1bC"
   },
   "source": [
    "#### tSNE of data after two hidden layers\n",
    "\n",
    "Do visualization of the tSNE of data after going through MLP. In the visualization result, you should find that in comparison with the tSNE of original data where all data points mess up with each other, tSNE of data after two-layer networks would be shown as multiple clusters in a 2D panel."
   ]
  },
  {
   "cell_type": "code",
   "execution_count": 42,
   "metadata": {
    "colab": {
     "base_uri": "https://localhost:8080/"
    },
    "executionInfo": {
     "elapsed": 30957,
     "status": "ok",
     "timestamp": 1665862367395,
     "user": {
      "displayName": "Lun Du",
      "userId": "06536280969193956471"
     },
     "user_tz": 240
    },
    "id": "c7EPZKcmH1bC",
    "outputId": "34b27595-bffa-45cf-8601-f1588d5f14cc",
    "tags": []
   },
   "outputs": [
    {
     "name": "stdout",
     "output_type": "stream",
     "text": [
      "number of batches for training: 290\n",
      "epoch 1: valid acc = 0.8125, new learning rate = 0.00095\n",
      "epoch 2: valid acc = 0.846, new learning rate = 0.0009025\n",
      "epoch 3: valid acc = 0.848, new learning rate = 0.000857375\n",
      "epoch 4: valid acc = 0.8585, new learning rate = 0.0008145062499999999\n",
      "epoch 5: valid acc = 0.868, new learning rate = 0.0007737809374999998\n",
      "epoch 6: valid acc = 0.864, new learning rate = 0.0007350918906249997\n",
      "epoch 7: valid acc = 0.8795, new learning rate = 0.0006983372960937497\n",
      "epoch 8: valid acc = 0.877, new learning rate = 0.0006634204312890621\n",
      "epoch 9: valid acc = 0.8805, new learning rate = 0.000630249409724609\n",
      "epoch 10: valid acc = 0.8815, new learning rate = 0.0005987369392383785\n",
      "test acc: 0.8682\n"
     ]
    },
    {
     "data": {
      "text/plain": [
       "0.8682"
      ]
     },
     "execution_count": 42,
     "metadata": {},
     "output_type": "execute_result"
    }
   ],
   "source": [
    "# Define MLP model\n",
    "model = MLP(input_dim=X_train.shape[1], hidden_dims=[100], num_classes=20, reg=0.1, weight_scale=1e-3)\n",
    "\n",
    "num_epoch = 10\n",
    "batch_size = 200\n",
    "lr = 1e-3\n",
    "verbose = False\n",
    "train_acc_hist, val_acc_hist = train(model, X_train, y_train, X_val, y_val, \n",
    "                  num_epoch=num_epoch, batch_size=batch_size, learning_rate=lr, verbose=verbose)\n",
    "test(model, X_test, y_test)"
   ]
  },
  {
   "cell_type": "markdown",
   "metadata": {
    "id": "WkSMwqXzH1bC"
   },
   "source": [
    "<span style=\"color:red\"><strong>TODO</strong></span>: Visualize data that is passed through MLP model defined above using tSNE. "
   ]
  },
  {
   "cell_type": "code",
   "execution_count": 43,
   "metadata": {
    "colab": {
     "base_uri": "https://localhost:8080/"
    },
    "executionInfo": {
     "elapsed": 21612,
     "status": "ok",
     "timestamp": 1665862389002,
     "user": {
      "displayName": "Lun Du",
      "userId": "06536280969193956471"
     },
     "user_tz": 240
    },
    "id": "wntbVMWOH1bD",
    "outputId": "bb2175ab-0a35-4cb6-a7bc-405a5362f2b4",
    "tags": []
   },
   "outputs": [
    {
     "name": "stdout",
     "output_type": "stream",
     "text": [
      "725.4045290356213\n",
      "The 100 th loop cost: 12.033871452855061, computation time: 1.580702304840088\n",
      "The 200 th loop cost: 0.579110583795825, computation time: 3.156498432159424\n",
      "The 300 th loop cost: 0.5405487242749869, computation time: 4.715362071990967\n",
      "The 400 th loop cost: 0.5333726850069356, computation time: 6.281051874160767\n",
      "The 500 th loop cost: 0.5315951252497723, computation time: 7.856649398803711\n",
      "The 600 th loop cost: 0.5308542169271832, computation time: 9.450474262237549\n",
      "The 700 th loop cost: 0.5304781179079161, computation time: 11.039684057235718\n",
      "The 800 th loop cost: 0.5302607783399793, computation time: 12.632992506027222\n",
      "The 900 th loop cost: 0.5301264934701296, computation time: 14.214521408081055\n",
      "The 1000 th loop cost: 0.5300389738907121, computation time: 15.806317329406738\n",
      "it takes 16.86869239807129 seconds\n"
     ]
    }
   ],
   "source": [
    "# run tSNE\n",
    "X = X_test[random_select]\n",
    "tic = time.time()\n",
    "\n",
    "#############################################################################\n",
    "#                          START OF YOUR CODE                               #\n",
    "# Hint: Pass data through affine and dense layers (model.layers) and then   #\n",
    "# apply softmax to obtain output of the MLP model.                          #\n",
    "#############################################################################\n",
    "Y = tsne(X, low_dim=2, perplexity=25.0)\n",
    "\n",
    "#############################################################################\n",
    "#                          END OF YOUR CODE                                 #\n",
    "#############################################################################\n",
    "\n",
    "print(\"it takes {} seconds\".format(time.time()-tic))"
   ]
  },
  {
   "cell_type": "code",
   "execution_count": 44,
   "metadata": {
    "colab": {
     "base_uri": "https://localhost:8080/",
     "height": 265
    },
    "executionInfo": {
     "elapsed": 301,
     "status": "ok",
     "timestamp": 1665862389297,
     "user": {
      "displayName": "Lun Du",
      "userId": "06536280969193956471"
     },
     "user_tz": 240
    },
    "id": "eyqU-Q7-H1bD",
    "outputId": "52e8da9e-f216-4e96-efcb-f88b0ed13c73"
   },
   "outputs": [
    {
     "data": {
      "image/png": "[encoded data removed]",
      "text/plain": [
       "<Figure size 432x288 with 1 Axes>"
      ]
     },
     "metadata": {
      "needs_background": "light"
     },
     "output_type": "display_data"
    }
   ],
   "source": [
    "# visualize tSNE 2D representation of data after two hidden layers\n",
    "#############################################################################\n",
    "#                          START OF YOUR CODE                               #\n",
    "# Hint: See tSNE visualization of original data                             #\n",
    "#############################################################################\n",
    "labels = y_test[random_select]\n",
    "colors = np.random.rand(20,3)\n",
    "color_labels = [colors[int(i)] for i in labels.tolist()]\n",
    "plt.scatter(Y[:,0], Y[:,1], 20, color_labels)\n",
    "plt.show()\n",
    "\n",
    "#############################################################################\n",
    "#                          END OF YOUR CODE                                 #\n",
    "#############################################################################"
   ]
  },
  {
   "cell_type": "markdown",
   "metadata": {
    "id": "CszrTj45H1bD"
   },
   "source": [
    "<span style=\"color:red\"><strong>TODO</strong></span>: Try tuning the parameters of tSNE, do visualization of the new tSNE of data."
   ]
  },
  {
   "cell_type": "code",
   "execution_count": 45,
   "metadata": {
    "colab": {
     "base_uri": "https://localhost:8080/"
    },
    "executionInfo": {
     "elapsed": 24974,
     "status": "ok",
     "timestamp": 1665862414434,
     "user": {
      "displayName": "Lun Du",
      "userId": "06536280969193956471"
     },
     "user_tz": 240
    },
    "id": "w_41ZuAoH1bD",
    "outputId": "9c6b7416-5aaa-4e6e-8db2-ae4b3e92070f"
   },
   "outputs": [
    {
     "name": "stdout",
     "output_type": "stream",
     "text": [
      "1061.998043067723\n",
      "The 100 th loop cost: 10.010783264101555, computation time: 1.618192434310913\n",
      "The 200 th loop cost: 0.2824439308413388, computation time: 3.281096935272217\n",
      "The 300 th loop cost: 0.2809546054154295, computation time: 4.913200616836548\n",
      "The 400 th loop cost: 0.28091770313525855, computation time: 6.520961046218872\n",
      "The 500 th loop cost: 0.2809177031060706, computation time: 8.141806602478027\n",
      "The 600 th loop cost: 0.28091770310607034, computation time: 9.75175142288208\n",
      "The 700 th loop cost: 0.2809177031060703, computation time: 11.328136205673218\n",
      "The 800 th loop cost: 0.28091770310607045, computation time: 12.912410974502563\n",
      "The 900 th loop cost: 0.28091770310607034, computation time: 14.515014410018921\n",
      "The 1000 th loop cost: 0.2809177031060703, computation time: 16.118587255477905\n",
      "it takes 34.321274757385254 seconds\n"
     ]
    }
   ],
   "source": [
    "# Tune the parameter, show the results.\n",
    "# run tSNE\n",
    "X = X_test[random_select]\n",
    "\n",
    "\n",
    "#############################################################################\n",
    "#                          START OF YOUR CODE                               #\n",
    "#############################################################################\n",
    "Y = tsne(X, low_dim=2, perplexity=100)\n",
    "\n",
    "#############################################################################\n",
    "#                          END OF YOUR CODE                                 #\n",
    "#############################################################################\n",
    "\n",
    "print(\"it takes {} seconds\".format(time.time()-tic))"
   ]
  },
  {
   "cell_type": "code",
   "execution_count": 46,
   "metadata": {
    "colab": {
     "base_uri": "https://localhost:8080/",
     "height": 265
    },
    "executionInfo": {
     "elapsed": 308,
     "status": "ok",
     "timestamp": 1665862414723,
     "user": {
      "displayName": "Lun Du",
      "userId": "06536280969193956471"
     },
     "user_tz": 240
    },
    "id": "ETs6Exv2H1bE",
    "outputId": "4cb53991-3a76-47d3-9414-f7f317c1c759"
   },
   "outputs": [
    {
     "data": {
      "image/png": "[encoded data removed]",
      "text/plain": [
       "<Figure size 432x288 with 1 Axes>"
      ]
     },
     "metadata": {
      "needs_background": "light"
     },
     "output_type": "display_data"
    }
   ],
   "source": [
    "# visualize tSNE 2D representation of data after two hidden layers\n",
    "#############################################################################\n",
    "#                          START OF YOUR CODE                               #\n",
    "#############################################################################\n",
    "\n",
    "labels = y_test[random_select]\n",
    "colors = np.random.rand(20,3)\n",
    "color_labels = [colors[int(i)] for i in labels.tolist()]\n",
    "plt.scatter(Y[:,0], Y[:,1], 20, color_labels)\n",
    "plt.show()\n",
    "#############################################################################\n",
    "#                          END OF YOUR CODE                                 #\n",
    "#############################################################################"
   ]
  },
  {
   "cell_type": "code",
   "execution_count": null,
   "metadata": {
    "id": "j_liacctH1bE"
   },
   "outputs": [],
   "source": []
  }
 ],
 "metadata": {
  "colab": {
   "collapsed_sections": [],
   "provenance": []
  },
  "kernelspec": {
   "display_name": "Python 3",
   "language": "python",
   "name": "python3"
  },
  "language_info": {
   "codemirror_mode": {
    "name": "ipython",
    "version": 3
   },
   "file_extension": ".py",
   "mimetype": "text/x-python",
   "name": "python",
   "nbconvert_exporter": "python",
   "pygments_lexer": "ipython3",
   "version": "3.6.9"
  },
  "vscode": {
   "interpreter": {
    "hash": "b0fa6594d8f4cbf19f97940f81e996739fb7646882a419484c72d19e05852a7e"
   }
  }
 },
 "nbformat": 4,
 "nbformat_minor": 1
}
